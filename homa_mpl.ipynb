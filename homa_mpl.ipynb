{
 "cells": [
  {
   "cell_type": "code",
   "execution_count": 85,
   "metadata": {},
   "outputs": [],
   "source": [
    "import numpy as np\n",
    "import os\n",
    "\n",
    "import ase\n",
    "import ase.io\n",
    "import ase.visualize\n",
    "import ase.geometry.analysis\n",
    "\n",
    "import matplotlib.pyplot as plt\n",
    "import matplotlib\n",
    "from matplotlib.patches import Polygon, Circle\n",
    "import matplotlib.patheffects as path_effects\n",
    "import matplotlib.font_manager as font_manager\n",
    "\n",
    "import cycles"
   ]
  },
  {
   "cell_type": "code",
   "execution_count": 86,
   "metadata": {},
   "outputs": [],
   "source": [
    "xyz_file = \"/home/leticia/PIRIDINE/xtbopt.xyz\"\n",
    "\n",
    "label = os.path.splitext(os.path.basename(xyz_file))[0]"
   ]
  },
  {
   "cell_type": "code",
   "execution_count": 87,
   "metadata": {},
   "outputs": [],
   "source": [
    "ase_atoms = ase.io.read(xyz_file)"
   ]
  },
  {
   "cell_type": "code",
   "execution_count": 88,
   "metadata": {},
   "outputs": [],
   "source": [
    "ase_atoms_no_h = ase.Atoms([a for a in ase_atoms if a.symbol != 'H'])"
   ]
  },
  {
   "cell_type": "code",
   "execution_count": 89,
   "metadata": {},
   "outputs": [],
   "source": [
    "#ase.visualize.view(ase_atoms_no_h)"
   ]
  },
  {
   "cell_type": "code",
   "execution_count": 90,
   "metadata": {},
   "outputs": [],
   "source": [
    "# bbox\n",
    "\n",
    "x_min = np.min(ase_atoms_no_h.positions[:, 0])-1.0\n",
    "x_max = np.max(ase_atoms_no_h.positions[:, 0])+1.0\n",
    "y_min = np.min(ase_atoms_no_h.positions[:, 1])-1.0\n",
    "y_max = np.max(ase_atoms_no_h.positions[:, 1])+1.0"
   ]
  },
  {
   "cell_type": "markdown",
   "metadata": {},
   "source": [
    "# HOMA parameters based on ref. calcs"
   ]
  },
  {
   "cell_type": "code",
   "execution_count": 91,
   "metadata": {},
   "outputs": [],
   "source": [
    "benz_xyz = \"./reference_geo/benzene_b3lyp_geo/opt.xyz\"\n",
    "butadiene_xyz = \"./reference_geo/butadiene_b3lyp_geo/opt.xyz\"\n",
    "\n",
    "ase_benz = ase.io.read(benz_xyz)\n",
    "ase_buta = ase.io.read(butadiene_xyz)\n",
    "\n",
    "ana_benz = ase.geometry.analysis.Analysis(ase_benz)\n",
    "ana_buta = ase.geometry.analysis.Analysis(ase_buta)"
   ]
  },
  {
   "cell_type": "code",
   "execution_count": 92,
   "metadata": {},
   "outputs": [
    {
     "name": "stdout",
     "output_type": "stream",
     "text": [
      "Benzene bond: 1.3939\n",
      "Alpha: 281.2422\n"
     ]
    }
   ],
   "source": [
    "benz_bond = ana_benz.get_values(ana_benz.get_bonds('C', 'C'))[0][0]\n",
    "\n",
    "buta_single = np.min(ana_buta.get_values(ana_buta.get_bonds('C', 'C'))[0])\n",
    "buta_double = np.max(ana_buta.get_values(ana_buta.get_bonds('C', 'C'))[0])\n",
    "\n",
    "# Determine alpha, such that \"kekule benzene\" has HOMA of zero\n",
    "alpha = 6/(3*(buta_single - benz_bond)**2 + 3*(buta_double - benz_bond)**2)\n",
    "\n",
    "print(\"Benzene bond: %.4f\" % benz_bond)\n",
    "print(\"Alpha: %.4f\" % alpha)"
   ]
  },
  {
   "cell_type": "markdown",
   "metadata": {},
   "source": [
    "# calculate HOMA for each cycle"
   ]
  },
  {
   "cell_type": "code",
   "execution_count": 93,
   "metadata": {},
   "outputs": [],
   "source": [
    "cycs = cycles.dumb_cycle_detection(ase_atoms_no_h, 8)\n",
    "centers, normals = cycles.find_cycle_centers_and_normals(ase_atoms_no_h, cycs)"
   ]
  },
  {
   "cell_type": "code",
   "execution_count": 94,
   "metadata": {},
   "outputs": [],
   "source": [
    "def homa(bond_distances, alpha, r_opt):\n",
    "    homa = 1.0\n",
    "    nb = len(bond_distances)\n",
    "    for dist in bond_distances:\n",
    "        homa -= alpha/nb * (r_opt - dist)**2\n",
    "    return homa"
   ]
  },
  {
   "cell_type": "code",
   "execution_count": 95,
   "metadata": {},
   "outputs": [],
   "source": [
    "def cycle_homa(cycle, ase_atoms, alpha, r_opt):\n",
    "    bond_distances = []\n",
    "    for i_at_c in range(len(cycle)):\n",
    "        at1 = ase_atoms[cycle[i_at_c]]\n",
    "        at2 = ase_atoms[cycle[(i_at_c+1) % len(cycle)]]\n",
    "        dist = np.linalg.norm(at1.position - at2.position)\n",
    "        bond_distances.append(dist)\n",
    "    return homa(bond_distances, alpha, r_opt)"
   ]
  },
  {
   "cell_type": "code",
   "execution_count": 96,
   "metadata": {},
   "outputs": [],
   "source": [
    "cycle_homas = []\n",
    "\n",
    "for cyc in cycs:\n",
    "    cycle_homas.append(cycle_homa(cyc, ase_atoms_no_h, alpha, benz_bond))"
   ]
  },
  {
   "cell_type": "code",
   "execution_count": 97,
   "metadata": {},
   "outputs": [
    {
     "data": {
      "text/plain": [
       "(0.8274334331183641, 0.8274334331183641)"
      ]
     },
     "execution_count": 97,
     "metadata": {},
     "output_type": "execute_result"
    }
   ],
   "source": [
    "np.min(cycle_homas), np.max(cycle_homas)"
   ]
  },
  {
   "cell_type": "markdown",
   "metadata": {},
   "source": [
    "# calculate bond distances"
   ]
  },
  {
   "cell_type": "code",
   "execution_count": 98,
   "metadata": {},
   "outputs": [],
   "source": [
    "ana = ase.geometry.analysis.Analysis(ase_atoms_no_h)\n",
    "at_bonds = ana.unique_bonds[0]\n",
    "bonds = []\n",
    "bond_dists = []\n",
    "for i_a1, b_list in enumerate(at_bonds):\n",
    "    for i_a2 in b_list:\n",
    "        dist = ana.get_bond_value(0, (i_a1, i_a2))\n",
    "        bonds.append((i_a1, i_a2))\n",
    "        bond_dists.append(dist)\n",
    "# sort by distance\n",
    "yx = sorted(zip(bond_dists, bonds))\n",
    "bonds = [x for y, x in yx]\n",
    "bond_dists = [y for y, x in yx]"
   ]
  },
  {
   "cell_type": "code",
   "execution_count": 99,
   "metadata": {},
   "outputs": [
    {
     "name": "stdout",
     "output_type": "stream",
     "text": [
      "1.3519064168795116 1.390499730312811 0.04201129373167922\n"
     ]
    }
   ],
   "source": [
    "b_min, b_max = np.min(bond_dists), np.max(bond_dists)\n",
    "\n",
    "delta = np.max([b_max-benz_bond, benz_bond-b_min])\n",
    "\n",
    "print(b_min, b_max, delta)\n",
    "\n",
    "delta = 0.08\n",
    "\n",
    "b_cmap_min = benz_bond - delta\n",
    "b_cmap_max = benz_bond + delta"
   ]
  },
  {
   "cell_type": "markdown",
   "metadata": {},
   "source": [
    "# make plot"
   ]
  },
  {
   "cell_type": "code",
   "execution_count": 100,
   "metadata": {},
   "outputs": [],
   "source": [
    "from matplotlib.patches import Polygon\n",
    "from matplotlib import cm\n",
    "from matplotlib.colors import LinearSegmentedColormap"
   ]
  },
  {
   "cell_type": "code",
   "execution_count": 101,
   "metadata": {},
   "outputs": [
    {
     "data": {
      "image/png": "[encoded data removed]",
      "text/plain": [
       "<Figure size 195.705x184.47 with 1 Axes>"
      ]
     },
     "metadata": {
      "needs_background": "light"
     },
     "output_type": "display_data"
    }
   ],
   "source": [
    "fig_x = (x_max - x_min + 2.0)/2.5\n",
    "fig_y = (y_max - y_min + 2.0)/2.5\n",
    "\n",
    "font = font_manager.FontProperties(fname=\"./font/inter-regular.ttf\")\n",
    "\n",
    "plt.figure(figsize=(fig_x, fig_y))\n",
    "ax = plt.gca()\n",
    "ax.set_aspect('equal')\n",
    "\n",
    "# -------------------------------------------------------------------\n",
    "# ATOMS\n",
    "#for at in ase_atoms_no_h:\n",
    "#    pos = at.position\n",
    "#    circ = plt.Circle(pos[:2], 0.08, color='black', zorder=10)\n",
    "#    ax.add_artist(circ)\n",
    "# -------------------------------------------------------------------\n",
    "    \n",
    "# -------------------------------------------------------------------\n",
    "# BONDS\n",
    "\n",
    "#b_cmap_name = 'seismic_r'\n",
    "#b_cmap_name = 'bwr_r'\n",
    "b_cmap_name = 'BrBG'\n",
    "#b_cmap_name = 'PRGn'\n",
    "b_cmap = matplotlib.cm.get_cmap(b_cmap_name)\n",
    "\n",
    "# color the bonds accordingly:\n",
    "for bond, bond_dist in zip(bonds, bond_dists):\n",
    "    \n",
    "    p1 = ase_atoms_no_h[bond[0]].position\n",
    "    p2 = ase_atoms_no_h[bond[1]].position\n",
    "    \n",
    "    dist_norm = (bond_dist - b_cmap_min) / (b_cmap_max - b_cmap_min)\n",
    "    rgb = b_cmap(dist_norm)[:-1]\n",
    "    \n",
    "    ax.plot([p1[0], p2[0]], [p1[1], p2[1]], color='k', linewidth=8.5, solid_capstyle='round')\n",
    "    ax.plot([p1[0], p2[0]], [p1[1], p2[1]], color=rgb, linewidth=8.0, solid_capstyle='round')\n",
    "# -------------------------------------------------------------------\n",
    "    \n",
    "# -------------------------------------------------------------------\n",
    "# HOMAS\n",
    "\n",
    "\n",
    "#h_cmap_name = 'seismic'\n",
    "h_cmap_name = 'Oranges'\n",
    "#h_cmap_name = 'bwr'\n",
    "h_cmap = matplotlib.cm.get_cmap(h_cmap_name)\n",
    "\n",
    "cm = LinearSegmentedColormap.from_list(\"my_cmap_w2r\", ['w', 'r'], N=100)\n",
    "h_cmap = cm\n",
    "\n",
    "h_cmap_min = 0.0\n",
    "h_cmap_max = 1.0\n",
    "\n",
    "for homa_val, cyc in zip(cycle_homas, cycs):\n",
    "    \n",
    "    val_norm = (homa_val - h_cmap_min) / (h_cmap_max - h_cmap_min)\n",
    "    rgba = h_cmap(val_norm)\n",
    "    \n",
    "    points = []\n",
    "    for i_at in cyc:\n",
    "        points.append(ase_atoms_no_h[i_at].position[:2])\n",
    "        \n",
    "    polygon = Polygon(np.array(points), True, color=rgba, zorder=1)\n",
    "    ax.add_artist(polygon)\n",
    "    \n",
    "plt.axis('off')\n",
    "plt.xlim([x_min, x_max])\n",
    "plt.ylim([y_min, y_max])\n",
    "plt.savefig(\"./fig/%s_homa.png\" % label, dpi=100, bbox_inches='tight', transparent=True)\n",
    "plt.savefig(\"./fig/%s_homa.pdf\" % label, bbox_inches='tight')\n",
    "    \n",
    "for homa_val, cntr in zip(cycle_homas, centers):\n",
    "    \n",
    "    #circ = Circle((cntr[0], cntr[1]), radius=0.02, color='black', zorder=1)\n",
    "    #ax.add_artist(circ)\n",
    "    \n",
    "    font_h = 0.25\n",
    "    font_h = 0.35\n",
    "    \n",
    "    txt = plt.text(cntr[0], cntr[1]-font_h, \"H = %.3f\" % homa_val, horizontalalignment='center',\n",
    "                   verticalalignment='baseline', color='black',\n",
    "                   fontdict={'size': 10})\n",
    "# -------------------------------------------------------------------\n",
    "\n",
    "plt.savefig(\"./fig/%s_homa_txt.png\" % label, dpi=100, bbox_inches='tight', transparent=True)\n",
    "plt.savefig(\"./fig/%s_homa_txt.pdf\" % label, bbox_inches='tight')\n",
    "plt.show()"
   ]
  },
  {
   "cell_type": "markdown",
   "metadata": {},
   "source": [
    "# colorbars"
   ]
  },
  {
   "cell_type": "code",
   "execution_count": 102,
   "metadata": {},
   "outputs": [
    {
     "data": {
      "image/png": "[encoded data removed]",
      "text/plain": [
       "<Figure size 36x403.2 with 2 Axes>"
      ]
     },
     "metadata": {
      "needs_background": "light"
     },
     "output_type": "display_data"
    }
   ],
   "source": [
    "a = np.array([[b_cmap_min,b_cmap_max]])\n",
    "plt.figure(figsize=(0.5, 5.6))\n",
    "img = plt.imshow(a, cmap=b_cmap_name)\n",
    "plt.gca().set_visible(False)\n",
    "cax = plt.axes([0.1, 0.2, 0.8, 0.6])\n",
    "cbar = plt.colorbar(orientation=\"vertical\", cax=cax)\n",
    "cbar.set_label(r\"Bond length (Å)\", fontsize=20)\n",
    "cbar.ax.tick_params(labelsize=20)\n",
    "cbar.set_ticks(np.arange(np.floor(b_cmap_min), np.ceil(b_cmap_max), 0.02))\n",
    "\n",
    "\n",
    "plt.savefig(\"./fig/%s_bond_colorbar.png\" % label, dpi=100, bbox_inches='tight')\n",
    "plt.show()"
   ]
  },
  {
   "cell_type": "code",
   "execution_count": 103,
   "metadata": {},
   "outputs": [
    {
     "data": {
      "image/png": "[encoded data removed]",
      "text/plain": [
       "<Figure size 468x36 with 2 Axes>"
      ]
     },
     "metadata": {
      "needs_background": "light"
     },
     "output_type": "display_data"
    }
   ],
   "source": [
    "a = np.array([[b_cmap_min,b_cmap_max]])\n",
    "plt.figure(figsize=(6.5, 0.5))\n",
    "img = plt.imshow(a, cmap=b_cmap_name)\n",
    "plt.gca().set_visible(False)\n",
    "cax = plt.axes([0.1, 0.2, 0.8, 0.6])\n",
    "cbar = plt.colorbar(orientation=\"horizontal\", cax=cax)\n",
    "cbar.set_label(r\"Bond length (Å)\", fontsize=20)\n",
    "cbar.ax.tick_params(labelsize=20)\n",
    "cbar.set_ticks(np.arange(np.floor(b_cmap_min), np.ceil(b_cmap_max), 0.03))\n",
    "\n",
    "\n",
    "plt.savefig(\"./fig/%s_bond_colorbar_h.png\" % label, dpi=100, bbox_inches='tight')\n",
    "plt.show()"
   ]
  },
  {
   "cell_type": "code",
   "execution_count": 104,
   "metadata": {},
   "outputs": [
    {
     "data": {
      "image/png": "[encoded data removed]",
      "text/plain": [
       "<Figure size 36x403.2 with 2 Axes>"
      ]
     },
     "metadata": {
      "needs_background": "light"
     },
     "output_type": "display_data"
    }
   ],
   "source": [
    "a = np.array([[h_cmap_min,h_cmap_max]])\n",
    "plt.figure(figsize=(0.5, 5.6))\n",
    "img = plt.imshow(a, cmap=h_cmap)\n",
    "plt.gca().set_visible(False)\n",
    "cax = plt.axes([0.1, 0.2, 0.8, 0.6])\n",
    "cbar = plt.colorbar(orientation=\"vertical\", cax=cax)\n",
    "cbar.set_label(\"HOMA\", fontsize=20)\n",
    "cbar.ax.tick_params(labelsize=20)\n",
    "#cbar.set_ticks(np.arange(np.floor(b_cmap_min), np.ceil(b_cmap_max), 0.02))\n",
    "\n",
    "plt.savefig(\"./fig/%s_homa_colorbar.png\" % label, dpi=100, bbox_inches='tight')\n",
    "plt.show()"
   ]
  },
  {
   "cell_type": "code",
   "execution_count": 105,
   "metadata": {},
   "outputs": [
    {
     "data": {
      "image/png": "[encoded data removed]",
      "text/plain": [
       "<Figure size 468x36 with 2 Axes>"
      ]
     },
     "metadata": {
      "needs_background": "light"
     },
     "output_type": "display_data"
    }
   ],
   "source": [
    "a = np.array([[h_cmap_min,h_cmap_max]])\n",
    "plt.figure(figsize=(6.5, 0.5))\n",
    "img = plt.imshow(a, cmap=h_cmap)\n",
    "plt.gca().set_visible(False)\n",
    "cax = plt.axes([0.1, 0.2, 0.8, 0.6])\n",
    "cbar = plt.colorbar(orientation=\"horizontal\", cax=cax)\n",
    "cbar.set_label(\"HOMA\", fontsize=20)\n",
    "cbar.ax.tick_params(labelsize=20)\n",
    "#cbar.set_ticks(np.arange(np.floor(b_cmap_min), np.ceil(b_cmap_max), 0.02))\n",
    "\n",
    "plt.savefig(\"./fig/%s_homa_colorbar_h.png\" % label, dpi=100, bbox_inches='tight')\n",
    "plt.show()"
   ]
  },
  {
   "cell_type": "code",
   "execution_count": null,
   "metadata": {},
   "outputs": [],
   "source": []
  }
 ],
 "metadata": {
  "kernelspec": {
   "display_name": "Python 3",
   "language": "python",
   "name": "python3"
  },
  "language_info": {
   "codemirror_mode": {
    "name": "ipython",
    "version": 3
   },
   "file_extension": ".py",
   "mimetype": "text/x-python",
   "name": "python",
   "nbconvert_exporter": "python",
   "pygments_lexer": "ipython3",
   "version": "3.8.10"
  }
 },
 "nbformat": 4,
 "nbformat_minor": 2
}
