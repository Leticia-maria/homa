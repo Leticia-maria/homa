{
 "cells": [
  {
   "cell_type": "code",
   "execution_count": 290,
   "metadata": {},
   "outputs": [],
   "source": [
    "import numpy as np\n",
    "\n",
    "import ase\n",
    "import ase.io\n",
    "import ase.visualize\n",
    "import ase.geometry.analysis\n",
    "\n",
    "import matplotlib.pyplot as plt\n",
    "import matplotlib"
   ]
  },
  {
   "cell_type": "code",
   "execution_count": null,
   "metadata": {},
   "outputs": [],
   "source": [
    "benz_xyz = \n",
    "kekule_benz_xyz = "
   ]
  },
  {
   "cell_type": "code",
   "execution_count": 374,
   "metadata": {},
   "outputs": [],
   "source": [
    "xyz_file = \"/home/kristjan/work/_tk_homa/5-b3lyp-opt_rot.xyz\""
   ]
  },
  {
   "cell_type": "code",
   "execution_count": 375,
   "metadata": {},
   "outputs": [],
   "source": [
    "ase_atoms = ase.io.read(xyz_file)"
   ]
  },
  {
   "cell_type": "code",
   "execution_count": 376,
   "metadata": {},
   "outputs": [],
   "source": [
    "ase.visualize.view(ase_atoms)"
   ]
  },
  {
   "cell_type": "code",
   "execution_count": 377,
   "metadata": {},
   "outputs": [],
   "source": [
    "ana = ase.geometry.analysis.Analysis(ase_atoms)"
   ]
  },
  {
   "cell_type": "code",
   "execution_count": null,
   "metadata": {},
   "outputs": [],
   "source": [
    "# Remove beginning lines of xyz for pymol\n",
    "f_lines = []\n",
    "with open(xyz_file, 'r') as f:\n",
    "    f_lines = f.readlines()\n",
    "with open(\"./tmp.xyz\", 'w') as f:\n",
    "    f.writelines(f_lines[2:])"
   ]
  },
  {
   "cell_type": "code",
   "execution_count": null,
   "metadata": {},
   "outputs": [],
   "source": [
    "from pymol import cmd\n",
    "cmd.delete('all')\n",
    "\n",
    "cmd.load(\"./tmp.xyz\")"
   ]
  },
  {
   "cell_type": "code",
   "execution_count": null,
   "metadata": {},
   "outputs": [],
   "source": [
    "\n",
    "cmd.hide(\"lines\")\n",
    "cmd.show(\"sticks\")\n",
    "cmd.show(\"spheres\")\n",
    "\n",
    "cmd.set(\"stick_h_scale\", 1.0)\n",
    "#cmd.set_bond(\"stick_radius\", 0.10, \"all\", 'all')\n",
    "\n",
    "cmd.set_bond(\"stick_radius\", 0.0, \"name C*\", \"name H*\")\n",
    "cmd.set_bond(\"stick_color\", \"white\", \"name C*\", \"name H*\")\n",
    "\n",
    "cmd.set_bond(\"stick_radius\", 0.15, \"name C*\", \"name C*\")\n",
    "cmd.set_bond(\"stick_color\", \"white\", \"name C*\", \"name C*\")\n",
    "\n",
    "cmd.set(\"sphere_scale\", 0.0, \"all\")\n",
    "cmd.set(\"sphere_scale\", 0.0, \"elem H\")\n",
    "\n",
    "cmd.color(\"black\", \"name C*\")\n",
    "cmd.color(\"blue\", \"name N*\")\n",
    "\n",
    "#cmd.color(\"blue\", \"rank 0\")\n",
    "#cmd.set(\"sphere_scale\", 0.30, \"rank 0\")\n",
    "\n",
    "cmd.set(\"orthoscopic\", \"on\")\n",
    "\n",
    "cmd.hide(\"spheres\", \"elem X\")\n",
    "cmd.hide(\"sticks\", \"elem X\")"
   ]
  },
  {
   "cell_type": "code",
   "execution_count": null,
   "metadata": {},
   "outputs": [],
   "source": [
    "\n",
    "#cmap_name = 'seismic_r'\n",
    "cmap_name = 'bwr_r'\n",
    "cmap = matplotlib.cm.get_cmap(cmap_name)"
   ]
  },
  {
   "cell_type": "code",
   "execution_count": null,
   "metadata": {},
   "outputs": [],
   "source": [
    "\n",
    "benz_bond = 1.4\n",
    "\n",
    "b_max = 1.45\n",
    "b_min = 1.35\n",
    "\n",
    "t_max = 0.2\n",
    "t_min = 0.1\n",
    "\n",
    "# color the bonds accordingly:\n",
    "for i_b, bond in enumerate(ana.get_bonds('C', 'C')[0]):\n",
    "    dist = ana.get_bond_value(0, bond)\n",
    "\n",
    "    dist_norm = (dist - b_min) / (b_max - b_min)\n",
    "    rgb = cmap(dist_norm)[:-1]\n",
    "\n",
    "    t = dist_norm*(t_max - t_min) + t_min\n",
    "\n",
    "\n",
    "\n",
    "    cmd.set_color(\"custom%d\"%i_b, \"[%.4f,%.4f,%.4f]\"%rgb)\n",
    "\n",
    "    cmd.set_bond(\"stick_color\", \"custom%d\"%i_b, \"rank %d\"%bond[0], \"rank %d\"%bond[1])\n",
    "\n",
    "    #cmd.set_bond(\"stick_radius\", t , \"rank %d\"%bond[0], \"rank %d\"%bond[1])"
   ]
  },
  {
   "cell_type": "code",
   "execution_count": null,
   "metadata": {},
   "outputs": [],
   "source": [
    "# zoom out a bit\n",
    "cmd.zoom(complete=1)\n",
    "view = list(cmd.get_view())\n",
    "view[11] += -1.0\n",
    "cmd.set_view(view)\n"
   ]
  },
  {
   "cell_type": "code",
   "execution_count": 423,
   "metadata": {},
   "outputs": [],
   "source": [
    "\n",
    "cmd.png(\"./pymol.png\", \"5cm\", dpi=600, ray=100)"
   ]
  },
  {
   "cell_type": "code",
   "execution_count": null,
   "metadata": {},
   "outputs": [],
   "source": []
  },
  {
   "cell_type": "code",
   "execution_count": null,
   "metadata": {},
   "outputs": [],
   "source": []
  }
 ],
 "metadata": {
  "kernelspec": {
   "display_name": "Python 3",
   "language": "python",
   "name": "python3"
  },
  "language_info": {
   "codemirror_mode": {
    "name": "ipython",
    "version": 3
   },
   "file_extension": ".py",
   "mimetype": "text/x-python",
   "name": "python",
   "nbconvert_exporter": "python",
   "pygments_lexer": "ipython3",
   "version": "3.7.4"
  }
 },
 "nbformat": 4,
 "nbformat_minor": 2
}
